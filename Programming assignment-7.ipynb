{
  "nbformat": 4,
  "nbformat_minor": 0,
  "metadata": {
    "colab": {
      "provenance": []
    },
    "kernelspec": {
      "name": "python3",
      "display_name": "Python 3"
    },
    "language_info": {
      "name": "python"
    }
  },
  "cells": [
    {
      "cell_type": "code",
      "execution_count": null,
      "metadata": {
        "id": "GBJFOmYOUHLl"
      },
      "outputs": [],
      "source": [
        "##1. Write a Python Program to find sum of array?"
      ]
    },
    {
      "cell_type": "code",
      "source": [
        "def _sum(arr):\n",
        "  sum=0\n",
        "  for i in arr:\n",
        "      sum = sum + i\n",
        "  return(sum)\n",
        "  ans = _sum(arr)\n",
        "  if i==len(arr):\n",
        "    print('Sum of the array is ', ans)"
      ],
      "metadata": {
        "id": "9IL0AQnfUJPU"
      },
      "execution_count": 63,
      "outputs": []
    },
    {
      "cell_type": "code",
      "source": [
        "sum([1,2,3,4])"
      ],
      "metadata": {
        "colab": {
          "base_uri": "https://localhost:8080/"
        },
        "id": "WH2IDnJMWfao",
        "outputId": "67f14653-6e19-4440-ef96-6f2e31c6dc4f"
      },
      "execution_count": 66,
      "outputs": [
        {
          "output_type": "stream",
          "name": "stdout",
          "text": [
            "The sum of array is:  10\n"
          ]
        }
      ]
    },
    {
      "cell_type": "code",
      "source": [
        "from functools import reduce\n",
        "def sum1(arr1):\n",
        "    sum_ = reduce(lambda a, b: a+b, arr)\n",
        " \n",
        "    return(sum_)"
      ],
      "metadata": {
        "id": "AuXHA2nCYBQA"
      },
      "execution_count": 72,
      "outputs": []
    },
    {
      "cell_type": "code",
      "source": [
        "sum1([10,20,30,40])"
      ],
      "metadata": {
        "colab": {
          "base_uri": "https://localhost:8080/"
        },
        "id": "j9L74JJzYENo",
        "outputId": "e2b2b2e9-9d13-4ef2-a8b5-4bb03ea21f89"
      },
      "execution_count": 73,
      "outputs": [
        {
          "output_type": "execute_result",
          "data": {
            "text/plain": [
              "100"
            ]
          },
          "metadata": {},
          "execution_count": 73
        }
      ]
    },
    {
      "cell_type": "code",
      "source": [
        "##2. Write a Python Program to find largest element in an array?"
      ],
      "metadata": {
        "id": "Tz7TXZN_W04P"
      },
      "execution_count": null,
      "outputs": []
    },
    {
      "cell_type": "code",
      "source": [
        "from functools import reduce\n",
        "def largest(arr):\n",
        "    ans = reduce(max, arr)\n",
        "    return ans\n"
      ],
      "metadata": {
        "id": "FbhQ20kZW-yo"
      },
      "execution_count": 74,
      "outputs": []
    },
    {
      "cell_type": "code",
      "source": [
        "largest([10,20,30,40])"
      ],
      "metadata": {
        "colab": {
          "base_uri": "https://localhost:8080/"
        },
        "id": "DplfJ4mPYr4i",
        "outputId": "54ffad71-8080-402f-d475-436bd2d0ee9a"
      },
      "execution_count": 75,
      "outputs": [
        {
          "output_type": "execute_result",
          "data": {
            "text/plain": [
              "40"
            ]
          },
          "metadata": {},
          "execution_count": 75
        }
      ]
    },
    {
      "cell_type": "code",
      "source": [
        "##3. Write a Python Program for array rotation?"
      ],
      "metadata": {
        "id": "MxlolbUZYvNi"
      },
      "execution_count": null,
      "outputs": []
    },
    {
      "cell_type": "code",
      "source": [
        "def rotateArray(arr, n, d):\n",
        "    temp = []\n",
        "    i = 0\n",
        "    while (i < d):\n",
        "        temp.append(arr[i])\n",
        "        i = i + 1\n",
        "    i = 0\n",
        "    while (d < n):\n",
        "        arr[i] = arr[d]\n",
        "        i = i + 1\n",
        "        d = d + 1\n",
        "    arr[:] = arr[: i] + temp\n",
        "    return arr\n",
        "print(\"Array after left rotation is: \", end=' ')\n",
        "print(rotateArray(arr, len(arr), 2))"
      ],
      "metadata": {
        "colab": {
          "base_uri": "https://localhost:8080/"
        },
        "id": "T_4A93krY2Og",
        "outputId": "e5e10ea3-5f3c-412f-91ef-df8bc3334939"
      },
      "execution_count": 76,
      "outputs": [
        {
          "output_type": "stream",
          "name": "stdout",
          "text": [
            "Array after left rotation is:  [30, 40, 10, 20]\n"
          ]
        }
      ]
    },
    {
      "cell_type": "code",
      "source": [
        "arr=[1,2,3,4,5,6]"
      ],
      "metadata": {
        "id": "gsY2_OgAZWRI"
      },
      "execution_count": 77,
      "outputs": []
    },
    {
      "cell_type": "code",
      "source": [
        "rotateArray(arr,6,3)"
      ],
      "metadata": {
        "colab": {
          "base_uri": "https://localhost:8080/"
        },
        "id": "-6B-rbaWZZpA",
        "outputId": "114f8340-b242-4c8a-abf8-14e5970f88cd"
      },
      "execution_count": 80,
      "outputs": [
        {
          "output_type": "execute_result",
          "data": {
            "text/plain": [
              "[4, 5, 6, 1, 2, 3]"
            ]
          },
          "metadata": {},
          "execution_count": 80
        }
      ]
    },
    {
      "cell_type": "code",
      "source": [
        "##4. Write a Python Program to Split the array and add the first part to the end?"
      ],
      "metadata": {
        "id": "2pADcBWzZd4D"
      },
      "execution_count": null,
      "outputs": []
    },
    {
      "cell_type": "code",
      "source": [
        "def splitArr(a, n, k): \n",
        "   b = a[:k]\n",
        "   return (a[k::]+b[::])\n",
        "          \n",
        "n = len(arr)\n",
        "position = 2\n",
        "arr = splitArr(arr, n, position)\n",
        "for i in range(0, n): \n",
        "    print(arr[i], end = ' ')"
      ],
      "metadata": {
        "colab": {
          "base_uri": "https://localhost:8080/"
        },
        "id": "mcv-2IOpZ2V5",
        "outputId": "82971333-10df-4c23-9208-c06b70bd6aa2"
      },
      "execution_count": 85,
      "outputs": [
        {
          "output_type": "stream",
          "name": "stdout",
          "text": [
            "52 36 12 10 5 6 "
          ]
        }
      ]
    },
    {
      "cell_type": "code",
      "source": [
        "arr = [12, 10, 5, 6, 52, 36]"
      ],
      "metadata": {
        "id": "QvCN7KZgZ92Z"
      },
      "execution_count": 86,
      "outputs": []
    },
    {
      "cell_type": "code",
      "source": [
        "splitArr(arr,6,3)"
      ],
      "metadata": {
        "colab": {
          "base_uri": "https://localhost:8080/"
        },
        "id": "4FGhl4yqabrc",
        "outputId": "7e0ef387-1e98-4644-9cdc-f7e50fe70d0f"
      },
      "execution_count": 87,
      "outputs": [
        {
          "output_type": "execute_result",
          "data": {
            "text/plain": [
              "[6, 52, 36, 12, 10, 5]"
            ]
          },
          "metadata": {},
          "execution_count": 87
        }
      ]
    },
    {
      "cell_type": "code",
      "source": [
        "##5. Write a Python Program to check if given array is Monotonic?"
      ],
      "metadata": {
        "id": "YzmJo59zag0H"
      },
      "execution_count": null,
      "outputs": []
    },
    {
      "cell_type": "code",
      "source": [
        "def isMonotonic(A):\n",
        "    x, y = [], []\n",
        "    x.extend(A)\n",
        "    y.extend(A)\n",
        "    x.sort()\n",
        "    y.sort(reverse=True)\n",
        "    if(x == A or y == A):\n",
        "        return True\n",
        "    return False"
      ],
      "metadata": {
        "id": "z8u57suxa0Q_"
      },
      "execution_count": 88,
      "outputs": []
    },
    {
      "cell_type": "code",
      "source": [
        "A=[2,2,5,4]"
      ],
      "metadata": {
        "id": "TeGDnpiea6d-"
      },
      "execution_count": 92,
      "outputs": []
    },
    {
      "cell_type": "code",
      "source": [
        "isMonotonic(A)"
      ],
      "metadata": {
        "colab": {
          "base_uri": "https://localhost:8080/"
        },
        "id": "fz_dWPhHbAKI",
        "outputId": "b8a4e0a9-4aae-4720-eb1b-1de3b12b8040"
      },
      "execution_count": 93,
      "outputs": [
        {
          "output_type": "execute_result",
          "data": {
            "text/plain": [
              "False"
            ]
          },
          "metadata": {},
          "execution_count": 93
        }
      ]
    },
    {
      "cell_type": "code",
      "source": [
        "B=[5,4,3,3,2]"
      ],
      "metadata": {
        "id": "I2j1VshEbRxx"
      },
      "execution_count": 95,
      "outputs": []
    },
    {
      "cell_type": "code",
      "source": [
        "isMonotonic(B)"
      ],
      "metadata": {
        "id": "KESLhjhnbaY3",
        "outputId": "72219cb8-e427-4004-82a2-52297906cac1",
        "colab": {
          "base_uri": "https://localhost:8080/"
        }
      },
      "execution_count": 96,
      "outputs": [
        {
          "output_type": "execute_result",
          "data": {
            "text/plain": [
              "True"
            ]
          },
          "metadata": {},
          "execution_count": 96
        }
      ]
    },
    {
      "cell_type": "code",
      "source": [],
      "metadata": {
        "id": "Y_DiJQRubds3"
      },
      "execution_count": null,
      "outputs": []
    }
  ]
}