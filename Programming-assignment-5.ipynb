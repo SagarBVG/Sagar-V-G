{
  "nbformat": 4,
  "nbformat_minor": 0,
  "metadata": {
    "colab": {
      "provenance": []
    },
    "kernelspec": {
      "name": "python3",
      "display_name": "Python 3"
    },
    "language_info": {
      "name": "python"
    }
  },
  "cells": [
    {
      "cell_type": "code",
      "execution_count": null,
      "metadata": {
        "id": "65fUffz5T3Js"
      },
      "outputs": [],
      "source": [
        "#1. Write a Python Program to Find LCM?"
      ]
    },
    {
      "cell_type": "code",
      "source": [
        "n1=int(input(\"Enter value of num1: \"))\n",
        "n2=int(input(\"Enter value of num2: \"))\n",
        "\n",
        "def LCM(x,y):\n",
        "  if x>y:\n",
        "    greater=x\n",
        "  else:\n",
        "    greater=y\n",
        "  while(True):\n",
        "    if ((greater%x==0) and (greater%y==0)):\n",
        "      lcm=greater\n",
        "      break\n",
        "    greater+=1\n",
        "  return lcm\n",
        "print(\"The LCM of numbers is :\",LCM(n1,n2))"
      ],
      "metadata": {
        "colab": {
          "base_uri": "https://localhost:8080/"
        },
        "id": "KlUpoff8T5AQ",
        "outputId": "da3628ba-7207-4a2c-e082-c7153a76247c"
      },
      "execution_count": 5,
      "outputs": [
        {
          "output_type": "stream",
          "name": "stdout",
          "text": [
            "Enter value of num1: 5\n",
            "Enter value of num2: 11\n",
            "The LCM of numbers is : 55\n"
          ]
        }
      ]
    },
    {
      "cell_type": "code",
      "source": [
        "#2. Write a Python Program to Find HCF?"
      ],
      "metadata": {
        "id": "mgA_7s2DWKXg"
      },
      "execution_count": null,
      "outputs": []
    },
    {
      "cell_type": "code",
      "source": [
        "n1=int(input(\"Enter value of num1: \"))\n",
        "n2=int(input(\"Enter value of num2: \"))\n",
        "\n",
        "def HCF(x,y):\n",
        "  if x>y:\n",
        "    smaller=y\n",
        "  else:\n",
        "    smaller=x\n",
        "  for i in range(1,smaller+1):\n",
        "    if ((x%i==0) and (y%i==0)):\n",
        "      hcf=i\n",
        "  return hcf\n",
        "print(\"The HCF of numbers is :\",HCF(n1,n2))"
      ],
      "metadata": {
        "colab": {
          "base_uri": "https://localhost:8080/"
        },
        "id": "OqMIomsQWLyH",
        "outputId": "fb541103-1b1b-4cc4-8b81-a40da1c5d774"
      },
      "execution_count": 8,
      "outputs": [
        {
          "output_type": "stream",
          "name": "stdout",
          "text": [
            "Enter value of num1: 5\n",
            "Enter value of num2: 20\n",
            "The HCF of numbers is : 5\n"
          ]
        }
      ]
    },
    {
      "cell_type": "code",
      "source": [
        "#3. Write a Python Program to Convert Decimal to Binary, Octal and Hexadecimal?"
      ],
      "metadata": {
        "id": "E31EmrOjXgZ8"
      },
      "execution_count": null,
      "outputs": []
    },
    {
      "cell_type": "code",
      "source": [
        "number=int(input(\"Enter a number: \"))\n",
        "\n",
        "print(\"The decimal value is:\",number)\n",
        "print(\"binary value: \",bin(number) )\n",
        "print(\"octal value: \",oct(number))\n",
        "print(\"hexadecimal value: \",hex(number))"
      ],
      "metadata": {
        "colab": {
          "base_uri": "https://localhost:8080/"
        },
        "id": "9_r-yfwjXhl7",
        "outputId": "ea2d03f3-8c45-4ac8-cb85-196268f1b20c"
      },
      "execution_count": 12,
      "outputs": [
        {
          "output_type": "stream",
          "name": "stdout",
          "text": [
            "Enter a number: 124\n",
            "The decimal value is: 124\n",
            "binary value:  0b1111100\n",
            "octal value:  0o174\n",
            "hexadecimal value:  0x7c\n"
          ]
        }
      ]
    },
    {
      "cell_type": "code",
      "source": [
        "#4. Write a Python Program To Find ASCII value of a character?"
      ],
      "metadata": {
        "id": "1uIcoIBaYfAc"
      },
      "execution_count": null,
      "outputs": []
    },
    {
      "cell_type": "code",
      "source": [
        "inp=input(\"Enter single character only: \")\n",
        "print(\"The ASCII value of \"  +inp+  \" is\", ord(inp))\n"
      ],
      "metadata": {
        "colab": {
          "base_uri": "https://localhost:8080/"
        },
        "id": "hseIY2qKZYa9",
        "outputId": "5c8b7af9-c9fc-49ed-843a-5860abee7280"
      },
      "execution_count": 37,
      "outputs": [
        {
          "output_type": "stream",
          "name": "stdout",
          "text": [
            "Enter single character only: a\n",
            "The ASCII value of a is 97\n"
          ]
        }
      ]
    },
    {
      "cell_type": "code",
      "source": [
        "#5. Write a Python Program to Make a Simple Calculator with 4 basic mathematical operations?"
      ],
      "metadata": {
        "id": "bB7FyccTcJh2"
      },
      "execution_count": null,
      "outputs": []
    },
    {
      "cell_type": "code",
      "source": [
        "while(True):\n",
        "  num1=float(input(\"Enter a first number: \"))\n",
        "  num2=float(input(\"Enter a second number: \"))\n",
        "  print(\"Select one of the operation (+,-,*,/): \")\n",
        "  opr=input()\n",
        "  if opr in ('+', '-', '*', '/'):\n",
        "    if opr=='+':\n",
        "          print(\"The addition of\",num1,\"&\",num2,\"is: \",num1+num2)\n",
        "    elif opr=='-':\n",
        "          print(\"The substraction of\",num1,\"&\",num2,\"is: \",num1-num2)\n",
        "    elif opr=='*':\n",
        "          print(\"The multiplication of\",num1,\"&\",num2,\"is: \",num1*num2)\n",
        "    else:\n",
        "          print(\"The division of\",num1,\"&\",num2,\"is: \",num1/num2)\n",
        "\n",
        "    next_calculation = input(\"Let's do next calculation? (yes/no): \")\n",
        "    if next_calculation == \"no\":\n",
        "            break\n",
        "  else:\n",
        "    print(\"Enter a valid input\")\n",
        "    break"
      ],
      "metadata": {
        "colab": {
          "base_uri": "https://localhost:8080/"
        },
        "id": "yuR3nrVJcKfE",
        "outputId": "a1add4e8-5553-468d-e6ac-05a9bbf3e3a8"
      },
      "execution_count": 44,
      "outputs": [
        {
          "output_type": "stream",
          "name": "stdout",
          "text": [
            "Enter a first number: 10\n",
            "Enter a second number: 20\n",
            "Select one of the operation (+,-,*,/): \n",
            "+\n",
            "The addition of 10.0 & 20.0 is:  30.0\n",
            "Let's do next calculation? (yes/no): yes\n",
            "Enter a first number: 20\n",
            "Enter a second number: 30\n",
            "Select one of the operation (+,-,*,/): \n",
            "-\n",
            "The substraction of 20.0 & 30.0 is:  -10.0\n",
            "Let's do next calculation? (yes/no): yes\n",
            "Enter a first number: 5\n",
            "Enter a second number: 20\n",
            "Select one of the operation (+,-,*,/): \n",
            "a\n",
            "Enter a valid input\n"
          ]
        }
      ]
    }
  ]
}