{
  "nbformat": 4,
  "nbformat_minor": 0,
  "metadata": {
    "colab": {
      "provenance": [],
      "collapsed_sections": []
    },
    "kernelspec": {
      "name": "python3",
      "display_name": "Python 3"
    },
    "language_info": {
      "name": "python"
    }
  },
  "cells": [
    {
      "cell_type": "code",
      "execution_count": null,
      "metadata": {
        "id": "4bLuN2mSgrxm"
      },
      "outputs": [],
      "source": [
        "Write a Python program to convert kilometers to miles?"
      ]
    },
    {
      "cell_type": "code",
      "source": [
        "User=float(input(\"Enter 1 for km input or 2 for miles input: \"))\n",
        "if User==1:\n",
        "  Km_input=float(input(\"Enter value of km: \"))\n",
        "  Miles=Km_input/1.609\n",
        "  print(\"The value of miles is:- \",Miles)\n",
        "elif User==2:\n",
        "   Miles_input=float(input(\"Enter value of miles: \"))\n",
        "   KM=Miles_input*1.609\n",
        "   print(\"The value of Km is:- \",KM)\n",
        "else:\n",
        "  print(\"Invalid input please enter valid input\")"
      ],
      "metadata": {
        "colab": {
          "base_uri": "https://localhost:8080/"
        },
        "id": "1qsIlUIig0dt",
        "outputId": "2bb680bb-355f-4ac0-cdc5-ea5d5f2e6950"
      },
      "execution_count": 45,
      "outputs": [
        {
          "output_type": "stream",
          "name": "stdout",
          "text": [
            "Enter 1 for km input or 2 for miles input: 2\n",
            "Enter value of miles: 10\n",
            "The value of Km is:-  16.09\n"
          ]
        }
      ]
    },
    {
      "cell_type": "code",
      "source": [
        "Write a Python program to convert Celsius to Fahrenheit?"
      ],
      "metadata": {
        "id": "Nm1haLtNjTem"
      },
      "execution_count": null,
      "outputs": []
    },
    {
      "cell_type": "code",
      "source": [
        "User=float(input(\"Enter 1 for celsius input or 2 for Fahrenheit input: \"))\n",
        "if User==1:\n",
        "  Celsius_input=float(input(\"Enter value of temperature in celsius: \"))\n",
        "  Fahrenht=(Celsius_input*9/5)+32\n",
        "  print(\"The value in Fahrenheit scale is:  \",Fahrenht)\n",
        "elif User==2:\n",
        "    Fahren_input=float(input(\"Enter value of temperature in Fahrenheit: \"))\n",
        "    Celsius=5/9*(Fahren_input-32)\n",
        "    print(\"The value in Celsius scale is:  \",Celsius)\n",
        "else:\n",
        "  print(\"Invalid input please enter valid input\")"
      ],
      "metadata": {
        "colab": {
          "base_uri": "https://localhost:8080/"
        },
        "id": "Uq9QDoPZjUOl",
        "outputId": "97e4dd1c-8187-4b7b-dba1-28ef0605f18a"
      },
      "execution_count": 22,
      "outputs": [
        {
          "output_type": "stream",
          "name": "stdout",
          "text": [
            "Enter 1 for celsius input or 2 for Fahrenheit input: 2\n",
            "Enter value of temperature in Fahrenheit: 100\n",
            "The value in Celsius scale is:   37.77777777777778\n"
          ]
        }
      ]
    },
    {
      "cell_type": "code",
      "source": [
        "Write a Python program to display calendar?"
      ],
      "metadata": {
        "id": "kMMX34gvlLbx"
      },
      "execution_count": null,
      "outputs": []
    },
    {
      "cell_type": "code",
      "source": [
        "import calendar\n",
        "\n",
        "year_input=int(input(\"Enter a year: \"))\n",
        "Month_input=int(input(\"Enter a month: \"))\n",
        "print(calendar.month(year_input,Month_input))"
      ],
      "metadata": {
        "colab": {
          "base_uri": "https://localhost:8080/"
        },
        "id": "ds9dkC0JlMVO",
        "outputId": "2e2f265a-c3a6-4ef0-ec8d-c95216b8afcb"
      },
      "execution_count": 24,
      "outputs": [
        {
          "output_type": "stream",
          "name": "stdout",
          "text": [
            "Enter a year: 2022\n",
            "Enter a month: 9\n",
            "   September 2022\n",
            "Mo Tu We Th Fr Sa Su\n",
            "          1  2  3  4\n",
            " 5  6  7  8  9 10 11\n",
            "12 13 14 15 16 17 18\n",
            "19 20 21 22 23 24 25\n",
            "26 27 28 29 30\n",
            "\n"
          ]
        }
      ]
    },
    {
      "cell_type": "code",
      "source": [
        "4. Write a Python program to solve quadratic equation?"
      ],
      "metadata": {
        "id": "nxZYWQNbmI97"
      },
      "execution_count": null,
      "outputs": []
    },
    {
      "cell_type": "code",
      "source": [
        "import cmath\n",
        "a=float(input(\"Enter x square variable: \"))\n",
        "b=float(input(\"Enter x variable: \"))\n",
        "c=float(input(\"Enter c variable: \"))\n",
        "\n",
        "d=(b**2)-(4*a*c)\n",
        "first_root = (-b-cmath.sqrt(d))/(2*a)\n",
        "second_root =(-b+cmath.sqrt(d))/(2*a)\n",
        "\n",
        "print(\"The solution are:  \",first_root,second_root)"
      ],
      "metadata": {
        "colab": {
          "base_uri": "https://localhost:8080/"
        },
        "id": "09p6LDLsmJxt",
        "outputId": "0321d760-6e3a-42be-9a67-08e994fb2fe9"
      },
      "execution_count": 36,
      "outputs": [
        {
          "output_type": "stream",
          "name": "stdout",
          "text": [
            "Enter x square variable: 2\n",
            "Enter x variable: 3\n",
            "Enter c variable: 1\n",
            "The solution are:   (-1+0j) (-0.5+0j)\n"
          ]
        }
      ]
    },
    {
      "cell_type": "code",
      "source": [
        "Write a Python program to swap two variables without temp variable?"
      ],
      "metadata": {
        "id": "jZDgNAOwooiJ"
      },
      "execution_count": null,
      "outputs": []
    },
    {
      "cell_type": "code",
      "source": [
        "x=float(input(\"Enter a value of x variable: \"))\n",
        "y=float(input(\"Enter a value of y variable: \"))\n",
        "\n",
        "print(\"The value of x before swapping is: \",x)\n",
        "print(\"The value of y before swapping is: \",y)\n",
        "\n",
        "x,y=y,x\n",
        "\n",
        "print(\"The value of x after swapping is: \",x)\n",
        "print(\"The value of y after swapping is: \",y)\n"
      ],
      "metadata": {
        "colab": {
          "base_uri": "https://localhost:8080/"
        },
        "id": "0Tsb_ChXopPM",
        "outputId": "408e5388-b6a6-43ad-c191-453d89e02b1b"
      },
      "execution_count": 38,
      "outputs": [
        {
          "output_type": "stream",
          "name": "stdout",
          "text": [
            "Enter a value of x variable: 25\n",
            "Enter a value of y variable: 35\n",
            "The value of x before swapping is:  25.0\n",
            "The value of y before swapping is:  35.0\n",
            "The value of x after swapping is:  35.0\n",
            "The value of y after swapping is:  25.0\n"
          ]
        }
      ]
    }
  ]
}